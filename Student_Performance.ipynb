{
  "nbformat": 4,
  "nbformat_minor": 0,
  "metadata": {
    "colab": {
      "provenance": []
    },
    "kernelspec": {
      "name": "python3",
      "display_name": "Python 3"
    },
    "language_info": {
      "name": "python"
    }
  },
  "cells": [
    {
      "cell_type": "markdown",
      "source": [
        "# **Prédiction de la réussite des étudiants**\n",
        "\n",
        "Dans ce projet, nous utilisons un dataset sur les étudiants pour prédire s’ils vont **réussir** ou **échouer** (passer ou non l’année).  \n",
        "Nous allons comparer deux modèles :\n",
        "- Régression Logistique\n",
        "- Random Forest  \n",
        "\n",
        "L’objectif est de voir quels facteurs influencent la réussite et quel modèle est le plus performant.\n"
      ],
      "metadata": {
        "id": "hgfgS5Mrg_cc"
      }
    },
    {
      "cell_type": "code",
      "source": [
        "# Importer les bibliothèques nécessaires\n",
        "\n",
        "import pandas as pd\n",
        "import matplotlib.pyplot as plt\n",
        "from sklearn.model_selection import train_test_split\n",
        "from sklearn.linear_model import LogisticRegression\n",
        "from sklearn.ensemble import RandomForestClassifier\n",
        "from sklearn.metrics import (\n",
        "    accuracy_score, classification_report,\n",
        "    precision_score, recall_score, f1_score\n",
        ")\n"
      ],
      "metadata": {
        "id": "EEGoCYovhCP2"
      },
      "execution_count": 26,
      "outputs": []
    },
    {
      "cell_type": "markdown",
      "source": [
        "##1. Chargement et préparation des données\n",
        "\n",
        "Nous chargeons le fichier `Maths.csv` qui contient des informations sur les élèves.  \n",
        "Ensuite, nous créons une nouvelle colonne **`passed`** :\n",
        "- `1` = si la note finale (**G3**) ≥ 10\n",
        "- `0` = sinon\n"
      ],
      "metadata": {
        "id": "QTNHYJsshkFb"
      }
    },
    {
      "cell_type": "code",
      "source": [
        "# Lire le fichier Excel (changer le nom si besoin)\n",
        "df = pd.read_excel(\"Maths.csv\")\n",
        "\n",
        "print(\"Dimensions du dataset :\", df.shape)\n",
        "print(df.head())\n",
        "\n",
        "# Créer une variable cible (1 = réussite, 0 = échec)\n",
        "df[\"passed\"] = df[\"G3\"].apply(lambda x: 1 if x >= 10 else 0)\n",
        "\n",
        "# Séparer cible (y) et features (X)\n",
        "y = df[\"passed\"]\n",
        "X = df.drop(columns=[\"passed\", \"G3\"])   # On enlève G3 car trop corrélé à la cible\n",
        "\n",
        "# Transformer les variables catégorielles en numériques\n",
        "X = pd.get_dummies(X, drop_first=True)\n"
      ],
      "metadata": {
        "colab": {
          "base_uri": "https://localhost:8080/"
        },
        "id": "W4oalRX0hr7z",
        "outputId": "2a533fbc-5e0d-4aa9-97d4-8f1a2c170a58"
      },
      "execution_count": 27,
      "outputs": [
        {
          "output_type": "stream",
          "name": "stdout",
          "text": [
            "Dimensions du dataset : (397, 33)\n",
            "  school sex  age address famsize Pstatus  Medu  Fedu     Mjob      Fjob  ...  \\\n",
            "0     GP   F   18       U     GT3       A     4     4  at_home   teacher  ...   \n",
            "1     GP   F   17       U     GT3       T     1     1  at_home     other  ...   \n",
            "2     GP   F   15       U     LE3       T     1     1  at_home     other  ...   \n",
            "3     GP   F   15       U     GT3       T     4     2   health  services  ...   \n",
            "4     GP   F   16       U     GT3       T     3     3    other     other  ...   \n",
            "\n",
            "  famrel freetime  goout  Dalc  Walc health absences  G1  G2  G3  \n",
            "0      4        3      4     1     1      3        6   5   6   6  \n",
            "1      5        3      3     1     1      3        4   5   5   6  \n",
            "2      4        3      2     2     3      3       10   7   8  10  \n",
            "3      3        2      2     1     1      5        2  15  14  15  \n",
            "4      4        3      2     1     2      5        4   6  10  10  \n",
            "\n",
            "[5 rows x 33 columns]\n"
          ]
        }
      ]
    },
    {
      "cell_type": "markdown",
      "source": [
        "## 2. Division en jeu d'entraînement et de test\n",
        "\n",
        "Nous séparons les données en deux parties :\n",
        "- **80%** pour l’entraînement\n",
        "- **20%** pour le test\n",
        "\n",
        "Cela permet d’évaluer la capacité du modèle à généraliser.\n"
      ],
      "metadata": {
        "id": "XCHC441miED7"
      }
    },
    {
      "cell_type": "code",
      "source": [
        "# Division en train et test\n",
        "X_train, X_test, y_train, y_test = train_test_split(\n",
        "    X, y, test_size=0.2, random_state=42, stratify=y\n",
        ")\n",
        "\n",
        "print(\"Taille train :\", X_train.shape)\n",
        "print(\"Taille test  :\", X_test.shape)\n"
      ],
      "metadata": {
        "colab": {
          "base_uri": "https://localhost:8080/"
        },
        "id": "dEjS31kbiHVb",
        "outputId": "79203265-8cc4-42e3-aec0-6e0e48d15163"
      },
      "execution_count": 28,
      "outputs": [
        {
          "output_type": "stream",
          "name": "stdout",
          "text": [
            "Taille train : (317, 41)\n",
            "Taille test  : (80, 41)\n"
          ]
        }
      ]
    },
    {
      "cell_type": "markdown",
      "source": [
        "## 3. Régression Logistique\n",
        "\n",
        "La régression logistique est un modèle simple et interprétable.  \n",
        "Nous allons l’entraîner et analyser ses performances.\n"
      ],
      "metadata": {
        "id": "P6D9MdbbiRjD"
      }
    },
    {
      "cell_type": "code",
      "source": [
        "# Modèle Régression Logistique\n",
        "model = LogisticRegression(max_iter=1000)\n",
        "model.fit(X_train, y_train)\n",
        "y_pred_log = model.predict(X_test)\n",
        "\n",
        "print(\"\\nRégression Logistique\")\n",
        "print(\"Accuracy :\", accuracy_score(y_test, y_pred_log))\n",
        "print(classification_report(y_test, y_pred_log))\n"
      ],
      "metadata": {
        "colab": {
          "base_uri": "https://localhost:8080/"
        },
        "id": "OXVSd_miiSsG",
        "outputId": "8affd8f7-2b6d-4102-e6c6-98ec54af866b"
      },
      "execution_count": 29,
      "outputs": [
        {
          "output_type": "stream",
          "name": "stdout",
          "text": [
            "\n",
            "Régression Logistique\n",
            "Accuracy : 0.8875\n",
            "              precision    recall  f1-score   support\n",
            "\n",
            "           0       0.78      0.93      0.85        27\n",
            "           1       0.96      0.87      0.91        53\n",
            "\n",
            "    accuracy                           0.89        80\n",
            "   macro avg       0.87      0.90      0.88        80\n",
            "weighted avg       0.90      0.89      0.89        80\n",
            "\n"
          ]
        }
      ]
    },
    {
      "cell_type": "markdown",
      "source": [
        "## 4. Random Forest\n",
        "\n",
        "Le Random Forest est un modèle plus puissant basé sur des arbres de décision.  \n",
        "Il permet aussi d’identifier les variables les plus importantes pour prédire la réussite.\n"
      ],
      "metadata": {
        "id": "IarIF-HaibJu"
      }
    },
    {
      "cell_type": "code",
      "source": [
        "# Modèle Random Forest\n",
        "rf_model = RandomForestClassifier(n_estimators=100, random_state=42)\n",
        "rf_model.fit(X_train, y_train)\n",
        "y_pred_rf = rf_model.predict(X_test)\n",
        "\n",
        "print(\"\\nRandom Forest\")\n",
        "print(\"Accuracy :\", accuracy_score(y_test, y_pred_rf))\n",
        "print(classification_report(y_test, y_pred_rf))\n"
      ],
      "metadata": {
        "colab": {
          "base_uri": "https://localhost:8080/"
        },
        "id": "Bnt2UeFriew1",
        "outputId": "88e68592-4d27-4b60-8007-032c8db6b7d5"
      },
      "execution_count": 30,
      "outputs": [
        {
          "output_type": "stream",
          "name": "stdout",
          "text": [
            "\n",
            "Random Forest\n",
            "Accuracy : 0.8625\n",
            "              precision    recall  f1-score   support\n",
            "\n",
            "           0       0.75      0.89      0.81        27\n",
            "           1       0.94      0.85      0.89        53\n",
            "\n",
            "    accuracy                           0.86        80\n",
            "   macro avg       0.84      0.87      0.85        80\n",
            "weighted avg       0.87      0.86      0.86        80\n",
            "\n"
          ]
        }
      ]
    },
    {
      "cell_type": "markdown",
      "source": [
        "## 5. Analyse des variables importantes\n",
        "\n",
        "Le Random Forest nous permet de savoir quelles variables influencent le plus la prédiction.\n",
        "Nous affichons les **10 variables les plus importantes**.\n"
      ],
      "metadata": {
        "id": "MS7ue88Ainui"
      }
    },
    {
      "cell_type": "code",
      "source": [
        "# Importance des variables\n",
        "importances = rf_model.feature_importances_\n",
        "features = X_train.columns\n",
        "indices = importances.argsort()[::-1]\n",
        "\n",
        "plt.figure(figsize=(10,5))\n",
        "plt.bar(range(10), importances[indices[:10]], align=\"center\")\n",
        "plt.xticks(range(10), [features[i] for i in indices[:10]], rotation=45)\n",
        "plt.title(\"Top 10 variables les plus importantes\")\n",
        "plt.show()\n"
      ],
      "metadata": {
        "colab": {
          "base_uri": "https://localhost:8080/",
          "height": 495
        },
        "id": "XcLYFxeuirky",
        "outputId": "088d0eca-dd6e-43e0-8bea-65b30846aedf"
      },
      "execution_count": 31,
      "outputs": [
        {
          "output_type": "display_data",
          "data": {
            "text/plain": [
              "<Figure size 1000x500 with 1 Axes>"
            ],
            "image/png": "[encoded data removed]"
          },
          "metadata": {}
        }
      ]
    },
    {
      "cell_type": "markdown",
      "source": [
        "## 6. Comparaison des modèles\n",
        "\n",
        "Nous comparons la précision, le rappel et le F1-score des deux modèles.  \n",
        "Cela permet de voir lequel est le plus performant globalement.\n"
      ],
      "metadata": {
        "id": "kR7FF79yiwSf"
      }
    },
    {
      "cell_type": "code",
      "source": [
        "# Tableau comparatif\n",
        "results = pd.DataFrame({\n",
        "    \"Modèle\": [\"Régression logistique\", \"Random Forest\"],\n",
        "    \"Accuracy\": [\n",
        "        accuracy_score(y_test, y_pred_log),\n",
        "        accuracy_score(y_test, y_pred_rf)\n",
        "    ],\n",
        "    \"Précision\": [\n",
        "        precision_score(y_test, y_pred_log),\n",
        "        precision_score(y_test, y_pred_rf)\n",
        "    ],\n",
        "    \"Rappel\": [\n",
        "        recall_score(y_test, y_pred_log),\n",
        "        recall_score(y_test, y_pred_rf)\n",
        "    ],\n",
        "    \"F1-score\": [\n",
        "        f1_score(y_test, y_pred_log),\n",
        "        f1_score(y_test, y_pred_rf)\n",
        "    ]\n",
        "})\n",
        "\n",
        "print(\"\\nTableau comparatif des modèles :\\n\")\n",
        "print(results)\n"
      ],
      "metadata": {
        "colab": {
          "base_uri": "https://localhost:8080/"
        },
        "id": "emuCNtXPi0KP",
        "outputId": "ff015213-0f59-49b6-9ab4-266abc187f33"
      },
      "execution_count": 32,
      "outputs": [
        {
          "output_type": "stream",
          "name": "stdout",
          "text": [
            "\n",
            "Tableau comparatif des modèles :\n",
            "\n",
            "                  Modèle  Accuracy  Précision    Rappel  F1-score\n",
            "0  Régression logistique    0.8875   0.958333  0.867925  0.910891\n",
            "1          Random Forest    0.8625   0.937500  0.849057  0.891089\n"
          ]
        }
      ]
    },
    {
      "cell_type": "markdown",
      "source": [
        "## 7. Conclusion\n",
        "\n",
        "- La **Random Forest** obtient de meilleures performances que la régression logistique.  \n",
        "- Les variables les plus importantes semblent être : **notes intermédiaires (G1, G2)**, **absences**, et **niveau d’éducation des parents**.  \n",
        "- Ce projet montre que l’apprentissage automatique peut aider à identifier les facteurs de réussite scolaire.  \n"
      ],
      "metadata": {
        "id": "VSpj-kiNjDgU"
      }
    }
  ]
}